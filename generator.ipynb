{
 "cells": [
  {
   "cell_type": "code",
   "execution_count": 1,
   "metadata": {
    "collapsed": true
   },
   "outputs": [],
   "source": [
    "import numpy as np\n",
    "import pandas as pd"
   ]
  },
  {
   "cell_type": "code",
   "execution_count": 2,
   "outputs": [],
   "source": [
    "N_MACHINES = 3\n",
    "N_JOBS = 15\n",
    "N_TYPES = 10\n",
    "PATH = './data/M{}J{}S{}'.format(N_MACHINES, N_JOBS, N_TYPES)"
   ],
   "metadata": {
    "collapsed": false
   }
  },
  {
   "cell_type": "code",
   "execution_count": 3,
   "outputs": [],
   "source": [
    "def gen_processing_time(mean=10, stdd=10):\n",
    "    return abs(np.random.normal(mean * np.arange(N_JOBS), np.full(N_JOBS, stdd)))\n",
    "\n",
    "\n",
    "def gen_due_date(processing_times, stdd=10):\n",
    "    # mean_ptime = np.mean(processing_times)\n",
    "    # due_date_offsets = np.random.normal(mean_ptime * np.arange(N_JOBS), np.full(N_JOBS, stdd))\n",
    "    # return processing_times + due_date_offsets\n",
    "    due_dates = abs(np.random.normal(len(processing_times), np.full(N_JOBS, stdd))) * np.arange(N_JOBS)\n",
    "    due_dates = due_dates[np.random.permutation(len(processing_times))]\n",
    "    return processing_times + due_dates\n",
    "\n",
    "\n",
    "def gen_setup():\n",
    "    return np.random.randint(0, N_TYPES, N_JOBS)"
   ],
   "metadata": {
    "collapsed": false
   }
  },
  {
   "cell_type": "code",
   "execution_count": 4,
   "outputs": [],
   "source": [
    "processing_times = gen_processing_time(mean=10, stdd=10)\n",
    "due_dates = gen_due_date(processing_times, stdd=10)\n",
    "setups = gen_setup()\n",
    "\n",
    "print([(p, d) for p, d in zip(processing_times, due_dates)])\n",
    "\n",
    "df = pd.DataFrame([{'id': i, 'pt': pt, 'dd': dd, 'type': type}\n",
    "                   for i, (pt, dd, type) in enumerate(zip(processing_times, due_dates, setups))])\n",
    "\n",
    "df.to_pickle(PATH + \".pkl\")"
   ],
   "metadata": {
    "collapsed": false
   }
  }
 ],
 "metadata": {
  "kernelspec": {
   "display_name": "Python 3",
   "language": "python",
   "name": "python3"
  },
  "language_info": {
   "codemirror_mode": {
    "name": "ipython",
    "version": 2
   },
   "file_extension": ".py",
   "mimetype": "text/x-python",
   "name": "python",
   "nbconvert_exporter": "python",
   "pygments_lexer": "ipython2",
   "version": "2.7.6"
  }
 },
 "nbformat": 4,
 "nbformat_minor": 0
}
